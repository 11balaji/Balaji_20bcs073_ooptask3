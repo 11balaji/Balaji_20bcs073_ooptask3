{
  "nbformat": 4,
  "nbformat_minor": 0,
  "metadata": {
    "colab": {
      "name": "Balaji_20bcs073_ooptask3",
      "provenance": [],
      "authorship_tag": "ABX9TyO7MJujTe415fJByBdQuQnM",
      "include_colab_link": true
    },
    "kernelspec": {
      "name": "python3",
      "display_name": "Python 3"
    },
    "language_info": {
      "name": "python"
    }
  },
  "cells": [
    {
      "cell_type": "markdown",
      "metadata": {
        "id": "view-in-github",
        "colab_type": "text"
      },
      "source": [
        "<a href=\"https://colab.research.google.com/github/11balaji/Balaji_20bcs073_ooptask3/blob/main/Balaji_20bcs073_ooptask3.ipynb\" target=\"_parent\"><img src=\"https://colab.research.google.com/assets/colab-badge.svg\" alt=\"Open In Colab\"/></a>"
      ]
    },
    {
      "cell_type": "code",
      "metadata": {
        "colab": {
          "base_uri": "https://localhost:8080/"
        },
        "id": "BuD2jJgFL11i",
        "outputId": "5c57d2f2-7d72-48ef-e381-c4749336f172"
      },
      "source": [
        "class Student:\n",
        "  def data(self):\n",
        "    self.name = str(input(\"Enter student name :\"))\n",
        "    self.regNo = (input(\"Enter the registration number :\"))\n",
        "    self.age = int(input(\"Enter  age of student :\"))\n",
        "    self.gender = str(input(\"Enter student gender :\"))\n",
        "    self.branch = str(input(\"Enter branch of student :\"))\n",
        "    self.semester = int(input(\"Enter semester number :\"))\n",
        "\n",
        "  def display(self):\n",
        "    print(f\"\\n Name: {self.name}\\n Reg. no: {(self.regNo)}\\n Age: {(self.age)}\\n Gender:{self.gender}\\n Branch: {self.branch}\\n Semester: {self.semester}\")\n",
        "\n",
        "class StudentResultInfo(Student):\n",
        "  def __init__(self, totalMarks, percentage, grade):\n",
        "    self.totalMarks = totalMarks\n",
        "    self.percentage = percentage\n",
        "    self.grade = grade\n",
        "\n",
        "  def displayData(self):\n",
        "    print(\"\\n\\n  Basic Information \")\n",
        "    self.display()\n",
        "    print(f\"\\n  Students Result  \\n\\n Total marks: {(self.totalMarks)}\\n Percentage: {(self.percentage)} % Grade: {self.grade}\")\n",
        "\n",
        "std1 = StudentResultInfo(900, 90, 'A-')\n",
        "std1.data()\n",
        "std1.display()\n",
        "std1.displayData()"
      ],
      "execution_count": 3,
      "outputs": [
        {
          "output_type": "stream",
          "name": "stdout",
          "text": [
            "Enter student name :ravi\n",
            "Enter the registration number :20bcs243\n",
            "Enter  age of student :19\n",
            "Enter student gender :male\n",
            "Enter branch of student :mechanical\n",
            "Enter semester number :2\n",
            "\n",
            " Name: ravi\n",
            " Reg. no: 20bcs243\n",
            " Age: 19\n",
            " Gender:male\n",
            " Branch: mechanical\n",
            " Semester: 2\n",
            "\n",
            "\n",
            "  Basic Information \n",
            "\n",
            " Name: ravi\n",
            " Reg. no: 20bcs243\n",
            " Age: 19\n",
            " Gender:male\n",
            " Branch: mechanical\n",
            " Semester: 2\n",
            "\n",
            "  Students Result  \n",
            "\n",
            " Total marks: 900\n",
            " Percentage: 90 % Grade: A-\n"
          ]
        }
      ]
    },
    {
      "cell_type": "code",
      "metadata": {
        "colab": {
          "base_uri": "https://localhost:8080/"
        },
        "id": "XDVoP1R8RTU3",
        "outputId": "0e29321f-13d2-4dc4-ca26-6ed7b28b1e66"
      },
      "source": [
        "class PDFs:\n",
        "  def __init__(self, creator, description, size):\n",
        "    self.creator = creator\n",
        "    self.description = description\n",
        "    self.size = size\n",
        "\n",
        "  def displayInfo(self):\n",
        "    print(\"Created by:\",self.creator)\n",
        "    print(\"Description:\", self.description)\n",
        "    print(\"File size (in KBs):\", self.size)\n",
        "\n",
        "  def sizeLimit(self):\n",
        "    if self.size > 100:\n",
        "      print(\"Size exceeds threshold.\\n\")\n",
        "    else:\n",
        "      print(\"Size  within  threshold.\\n\")\n",
        "\n",
        "class Pictures(PDFs):\n",
        "  def __init__(self, creator, description, size, dimension):\n",
        "    super().__init__(creator, description, size)\n",
        "    self.dimension = dimension\n",
        "\n",
        "  def displayPicInfo(self):\n",
        "    self.displayInfo()\n",
        "    print(\"Dimensions (in pixels):\", self.dimension)\n",
        "\n",
        "  def dimensionLimit(self):\n",
        "    if self.dimension>1000:\n",
        "      print(\" high dimension!\\n\")\n",
        "    else:\n",
        "      print(\" dimensions are fine.\\n\")\n",
        "      \n",
        "pdf1 = PDFs(\"TASK\", \"OOP\", 30)\n",
        "pdf1.displayInfo()\n",
        "pdf1.sizeLimit()\n",
        "print()\n",
        "img = Pictures(\"A2Z\", \"PQR\", 26876, 1784)\n",
        "img.displayPicInfo()\n",
        "img.dimensionLimit()"
      ],
      "execution_count": 6,
      "outputs": [
        {
          "output_type": "stream",
          "name": "stdout",
          "text": [
            "Created by: TASK\n",
            "Description: OOP\n",
            "File size (in KBs): 30\n",
            "Size  within  threshold.\n",
            "\n",
            "\n",
            "Created by: A2Z\n",
            "Description: PQR\n",
            "File size (in KBs): 26876\n",
            "Dimensions (in pixels): 1784\n",
            " high dimension!\n",
            "\n"
          ]
        }
      ]
    },
    {
      "cell_type": "code",
      "metadata": {
        "colab": {
          "base_uri": "https://localhost:8080/"
        },
        "id": "ZqXMg4oHT9ZM",
        "outputId": "b220150b-80f0-4090-942b-7f7441d6bef7"
      },
      "source": [
        "class Vehicle:\n",
        "    def __init__(self, name, mileage, capacity):\n",
        "        self.name = name\n",
        "        self.mileage = mileage\n",
        "        self.capacity = capacity\n",
        "\n",
        "    def fare(self):\n",
        "        return self.capacity * 100\n",
        "\n",
        "class Bus(Vehicle):\n",
        "    \n",
        "    def fare(self):\n",
        "        fare_bus = self.capacity * 100 \n",
        "        total_fare = fare_bus + (0.1 *fare_bus)\n",
        "        return total_fare\n",
        "\n",
        "School_bus = Bus(\"School Volvo\", 12, 50)\n",
        "print(\"Total Bus fare is:\", School_bus.fare())"
      ],
      "execution_count": 8,
      "outputs": [
        {
          "output_type": "stream",
          "name": "stdout",
          "text": [
            "Total Bus fare is: 5500.0\n"
          ]
        }
      ]
    }
  ]
}